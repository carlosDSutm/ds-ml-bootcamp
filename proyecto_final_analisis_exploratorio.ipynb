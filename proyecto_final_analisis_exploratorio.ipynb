{
 "cells": [
  {
   "metadata": {},
   "cell_type": "markdown",
   "source": [
    "## 📌 Paso 1: Importar librerías y cargar los datos\n",
    "\n",
    "En esta sección, importamos las librerías necesarias para el análisis de datos y cargamos el archivo `Status_Full Data_data.csv` en un `DataFrame` de Pandas.\n",
    "\n",
    "Las librerías utilizadas son:\n",
    "- `pandas`: Para manipulación y exploración de datos.\n",
    "- `matplotlib.pyplot`: Para visualización de datos.\n",
    "- `seaborn`: Para generar gráficos más intuitivos.\n",
    "\n",
    "Además, configuramos Pandas para mostrar todas las columnas del DataFrame y verificamos la carga correcta de los datos mostrando las primeras filas.\n"
   ],
   "id": "7dd92d341111cc7"
  },
  {
   "metadata": {
    "collapsed": true,
    "ExecuteTime": {
     "end_time": "2025-02-11T03:44:41.322184Z",
     "start_time": "2025-02-11T03:44:39.869920Z"
    }
   },
   "cell_type": "code",
   "source": [
    "# Importar librerías necesarias\n",
    "import pandas as pd\n",
    "import matplotlib.pyplot as plt\n",
    "import seaborn as sns\n",
    "\n",
    "# Configurar opciones de pandas para mostrar más columnas\n",
    "pd.set_option('display.max_columns', None)\n",
    "\n",
    "# Cargar el archivo CSV\n",
    "df = pd.read_csv(\"Status_Full Data_data.csv\")\n",
    "\n",
    "# Mostrar las primeras filas del dataframe\n",
    "df.head()\n"
   ],
   "id": "initial_id",
   "outputs": [
    {
     "name": "stderr",
     "output_type": "stream",
     "text": [
      "/var/folders/dy/tdg3fj0s1vb6fz91mxkb05g00000gn/T/ipykernel_7529/335975663.py:10: DtypeWarning: Columns (4) have mixed types. Specify dtype option on import or set low_memory=False.\n",
      "  df = pd.read_csv(\"Status_Full Data_data.csv\")\n"
     ]
    },
    {
     "data": {
      "text/plain": [
       "  Germination Status Db type        Fieldname Generation Plda Program  \\\n",
       "0          Very Good    Bulk  N-EE46-01A78-HP        DH1  NaN      LV   \n",
       "1          Very Good    Bulk  N-EE46-01A78-HP        DH1  NaN      LV   \n",
       "2          Very Good    Bulk  N-EE46-01A78-HP        DH1  NaN      LV   \n",
       "3          Very Good    Bulk  N-EE46-01A78-HP        DH1  NaN      LV   \n",
       "4          Very Good    Bulk  N-EE46-01A78-HP        DH1  NaN      LV   \n",
       "\n",
       "    Season          Setname       Site                  Src Set  Ersc  \\\n",
       "0  2024:10  NT-LV-HP-DGH-04  La Charca  NT-DH-LS-DDD-13-5K-NA-F   3.0   \n",
       "1  2024:10  NT-LV-HP-DGH-04  La Charca  NT-DH-LS-DDD-13-5K-NA-F   3.0   \n",
       "2  2024:10  NT-LV-HP-DGH-04  La Charca  NT-DH-LS-DDD-13-5K-NA-F   3.0   \n",
       "3  2024:10  NT-LV-HP-DGH-04  La Charca  NT-DH-LS-DDD-13-5K-NA-F   3.0   \n",
       "4  2024:10  NT-LV-HP-DGH-04  La Charca  NT-DH-LS-DDD-13-5K-NA-F   3.0   \n",
       "\n",
       "                    Plotbid  Germination Rate  PlaceholderUnidad   SRE  Value  \n",
       "0  P00000000879565787534871             100.0                  1  0.16      1  \n",
       "1  P00000000879565787534872             100.0                  1  0.16      1  \n",
       "2  P00000000879565787534873             100.0                  1  0.16      1  \n",
       "3  P00000000879565787534874             100.0                  1  0.16      1  \n",
       "4  P00000000879565787534875             100.0                  1  0.16      1  "
      ],
      "text/html": [
       "<div>\n",
       "<style scoped>\n",
       "    .dataframe tbody tr th:only-of-type {\n",
       "        vertical-align: middle;\n",
       "    }\n",
       "\n",
       "    .dataframe tbody tr th {\n",
       "        vertical-align: top;\n",
       "    }\n",
       "\n",
       "    .dataframe thead th {\n",
       "        text-align: right;\n",
       "    }\n",
       "</style>\n",
       "<table border=\"1\" class=\"dataframe\">\n",
       "  <thead>\n",
       "    <tr style=\"text-align: right;\">\n",
       "      <th></th>\n",
       "      <th>Germination Status</th>\n",
       "      <th>Db type</th>\n",
       "      <th>Fieldname</th>\n",
       "      <th>Generation</th>\n",
       "      <th>Plda</th>\n",
       "      <th>Program</th>\n",
       "      <th>Season</th>\n",
       "      <th>Setname</th>\n",
       "      <th>Site</th>\n",
       "      <th>Src Set</th>\n",
       "      <th>Ersc</th>\n",
       "      <th>Plotbid</th>\n",
       "      <th>Germination Rate</th>\n",
       "      <th>PlaceholderUnidad</th>\n",
       "      <th>SRE</th>\n",
       "      <th>Value</th>\n",
       "    </tr>\n",
       "  </thead>\n",
       "  <tbody>\n",
       "    <tr>\n",
       "      <th>0</th>\n",
       "      <td>Very Good</td>\n",
       "      <td>Bulk</td>\n",
       "      <td>N-EE46-01A78-HP</td>\n",
       "      <td>DH1</td>\n",
       "      <td>NaN</td>\n",
       "      <td>LV</td>\n",
       "      <td>2024:10</td>\n",
       "      <td>NT-LV-HP-DGH-04</td>\n",
       "      <td>La Charca</td>\n",
       "      <td>NT-DH-LS-DDD-13-5K-NA-F</td>\n",
       "      <td>3.0</td>\n",
       "      <td>P00000000879565787534871</td>\n",
       "      <td>100.0</td>\n",
       "      <td>1</td>\n",
       "      <td>0.16</td>\n",
       "      <td>1</td>\n",
       "    </tr>\n",
       "    <tr>\n",
       "      <th>1</th>\n",
       "      <td>Very Good</td>\n",
       "      <td>Bulk</td>\n",
       "      <td>N-EE46-01A78-HP</td>\n",
       "      <td>DH1</td>\n",
       "      <td>NaN</td>\n",
       "      <td>LV</td>\n",
       "      <td>2024:10</td>\n",
       "      <td>NT-LV-HP-DGH-04</td>\n",
       "      <td>La Charca</td>\n",
       "      <td>NT-DH-LS-DDD-13-5K-NA-F</td>\n",
       "      <td>3.0</td>\n",
       "      <td>P00000000879565787534872</td>\n",
       "      <td>100.0</td>\n",
       "      <td>1</td>\n",
       "      <td>0.16</td>\n",
       "      <td>1</td>\n",
       "    </tr>\n",
       "    <tr>\n",
       "      <th>2</th>\n",
       "      <td>Very Good</td>\n",
       "      <td>Bulk</td>\n",
       "      <td>N-EE46-01A78-HP</td>\n",
       "      <td>DH1</td>\n",
       "      <td>NaN</td>\n",
       "      <td>LV</td>\n",
       "      <td>2024:10</td>\n",
       "      <td>NT-LV-HP-DGH-04</td>\n",
       "      <td>La Charca</td>\n",
       "      <td>NT-DH-LS-DDD-13-5K-NA-F</td>\n",
       "      <td>3.0</td>\n",
       "      <td>P00000000879565787534873</td>\n",
       "      <td>100.0</td>\n",
       "      <td>1</td>\n",
       "      <td>0.16</td>\n",
       "      <td>1</td>\n",
       "    </tr>\n",
       "    <tr>\n",
       "      <th>3</th>\n",
       "      <td>Very Good</td>\n",
       "      <td>Bulk</td>\n",
       "      <td>N-EE46-01A78-HP</td>\n",
       "      <td>DH1</td>\n",
       "      <td>NaN</td>\n",
       "      <td>LV</td>\n",
       "      <td>2024:10</td>\n",
       "      <td>NT-LV-HP-DGH-04</td>\n",
       "      <td>La Charca</td>\n",
       "      <td>NT-DH-LS-DDD-13-5K-NA-F</td>\n",
       "      <td>3.0</td>\n",
       "      <td>P00000000879565787534874</td>\n",
       "      <td>100.0</td>\n",
       "      <td>1</td>\n",
       "      <td>0.16</td>\n",
       "      <td>1</td>\n",
       "    </tr>\n",
       "    <tr>\n",
       "      <th>4</th>\n",
       "      <td>Very Good</td>\n",
       "      <td>Bulk</td>\n",
       "      <td>N-EE46-01A78-HP</td>\n",
       "      <td>DH1</td>\n",
       "      <td>NaN</td>\n",
       "      <td>LV</td>\n",
       "      <td>2024:10</td>\n",
       "      <td>NT-LV-HP-DGH-04</td>\n",
       "      <td>La Charca</td>\n",
       "      <td>NT-DH-LS-DDD-13-5K-NA-F</td>\n",
       "      <td>3.0</td>\n",
       "      <td>P00000000879565787534875</td>\n",
       "      <td>100.0</td>\n",
       "      <td>1</td>\n",
       "      <td>0.16</td>\n",
       "      <td>1</td>\n",
       "    </tr>\n",
       "  </tbody>\n",
       "</table>\n",
       "</div>"
      ]
     },
     "execution_count": 2,
     "metadata": {},
     "output_type": "execute_result"
    }
   ],
   "execution_count": 2
  },
  {
   "metadata": {},
   "cell_type": "markdown",
   "source": [
    "## 📌 Paso 2: Obtener información general de los datos\n",
    "\n",
    "En este paso analizamos:\n",
    "- La cantidad de registros y columnas en el DataFrame.\n",
    "- Los tipos de datos de cada columna.\n",
    "- La cantidad de valores no nulos.\n",
    "\n",
    "Esto nos permite identificar si hay datos faltantes y verificar que los tipos de datos son los esperados.\n"
   ],
   "id": "f12b1d07f32d89c"
  },
  {
   "metadata": {
    "ExecuteTime": {
     "end_time": "2025-02-11T03:45:39.374827Z",
     "start_time": "2025-02-11T03:45:39.305453Z"
    }
   },
   "cell_type": "code",
   "source": [
    "# Obtener información general de los datos\n",
    "df.info()\n"
   ],
   "id": "ea5a95408919e1e6",
   "outputs": [
    {
     "name": "stdout",
     "output_type": "stream",
     "text": [
      "<class 'pandas.core.frame.DataFrame'>\n",
      "RangeIndex: 345100 entries, 0 to 345099\n",
      "Data columns (total 16 columns):\n",
      " #   Column              Non-Null Count   Dtype  \n",
      "---  ------              --------------   -----  \n",
      " 0   Germination Status  345100 non-null  object \n",
      " 1   Db type             345100 non-null  object \n",
      " 2   Fieldname           345100 non-null  object \n",
      " 3   Generation          345100 non-null  object \n",
      " 4   Plda                47697 non-null   object \n",
      " 5   Program             345100 non-null  object \n",
      " 6   Season              345100 non-null  object \n",
      " 7   Setname             345100 non-null  object \n",
      " 8   Site                345100 non-null  object \n",
      " 9   Src Set             345100 non-null  object \n",
      " 10  Ersc                341549 non-null  float64\n",
      " 11  Plotbid             345100 non-null  object \n",
      " 12  Germination Rate    341549 non-null  float64\n",
      " 13  PlaceholderUnidad   345100 non-null  int64  \n",
      " 14  SRE                 345100 non-null  float64\n",
      " 15  Value               345100 non-null  int64  \n",
      "dtypes: float64(3), int64(2), object(11)\n",
      "memory usage: 42.1+ MB\n"
     ]
    }
   ],
   "execution_count": 3
  },
  {
   "metadata": {},
   "cell_type": "markdown",
   "source": [
    "## 📌 Paso 3: Análisis estadístico descriptivo\n",
    "\n",
    "Este resumen nos permite conocer:\n",
    "- Promedio (`mean`), mínimo (`min`), máximo (`max`).\n",
    "- Mediana (`50%`), cuartiles (`25%` y `75%`).\n",
    "- Variabilidad de los datos (`std` - desviación estándar).\n",
    "\n",
    "Se enfoca en las columnas numéricas del dataset.\n"
   ],
   "id": "404b553fb4a265ce"
  },
  {
   "metadata": {
    "ExecuteTime": {
     "end_time": "2025-02-11T03:46:12.518368Z",
     "start_time": "2025-02-11T03:46:12.483922Z"
    }
   },
   "cell_type": "code",
   "source": [
    "# Resumen estadístico de las columnas numéricas\n",
    "df.describe()\n"
   ],
   "id": "cbb5a037c83922b6",
   "outputs": [
    {
     "data": {
      "text/plain": [
       "                Ersc  Germination Rate  PlaceholderUnidad           SRE  \\\n",
       "count  341549.000000     341549.000000           345100.0  3.451000e+05   \n",
       "mean        2.291264         76.375474                1.0  1.600000e-01   \n",
       "std         1.027489         34.249635                0.0  8.326685e-17   \n",
       "min         0.000000          0.000000                1.0  1.600000e-01   \n",
       "25%         2.000000         66.666667                1.0  1.600000e-01   \n",
       "50%         3.000000        100.000000                1.0  1.600000e-01   \n",
       "75%         3.000000        100.000000                1.0  1.600000e-01   \n",
       "max         8.000000        266.666667                1.0  1.600000e-01   \n",
       "\n",
       "          Value  \n",
       "count  345100.0  \n",
       "mean        1.0  \n",
       "std         0.0  \n",
       "min         1.0  \n",
       "25%         1.0  \n",
       "50%         1.0  \n",
       "75%         1.0  \n",
       "max         1.0  "
      ],
      "text/html": [
       "<div>\n",
       "<style scoped>\n",
       "    .dataframe tbody tr th:only-of-type {\n",
       "        vertical-align: middle;\n",
       "    }\n",
       "\n",
       "    .dataframe tbody tr th {\n",
       "        vertical-align: top;\n",
       "    }\n",
       "\n",
       "    .dataframe thead th {\n",
       "        text-align: right;\n",
       "    }\n",
       "</style>\n",
       "<table border=\"1\" class=\"dataframe\">\n",
       "  <thead>\n",
       "    <tr style=\"text-align: right;\">\n",
       "      <th></th>\n",
       "      <th>Ersc</th>\n",
       "      <th>Germination Rate</th>\n",
       "      <th>PlaceholderUnidad</th>\n",
       "      <th>SRE</th>\n",
       "      <th>Value</th>\n",
       "    </tr>\n",
       "  </thead>\n",
       "  <tbody>\n",
       "    <tr>\n",
       "      <th>count</th>\n",
       "      <td>341549.000000</td>\n",
       "      <td>341549.000000</td>\n",
       "      <td>345100.0</td>\n",
       "      <td>3.451000e+05</td>\n",
       "      <td>345100.0</td>\n",
       "    </tr>\n",
       "    <tr>\n",
       "      <th>mean</th>\n",
       "      <td>2.291264</td>\n",
       "      <td>76.375474</td>\n",
       "      <td>1.0</td>\n",
       "      <td>1.600000e-01</td>\n",
       "      <td>1.0</td>\n",
       "    </tr>\n",
       "    <tr>\n",
       "      <th>std</th>\n",
       "      <td>1.027489</td>\n",
       "      <td>34.249635</td>\n",
       "      <td>0.0</td>\n",
       "      <td>8.326685e-17</td>\n",
       "      <td>0.0</td>\n",
       "    </tr>\n",
       "    <tr>\n",
       "      <th>min</th>\n",
       "      <td>0.000000</td>\n",
       "      <td>0.000000</td>\n",
       "      <td>1.0</td>\n",
       "      <td>1.600000e-01</td>\n",
       "      <td>1.0</td>\n",
       "    </tr>\n",
       "    <tr>\n",
       "      <th>25%</th>\n",
       "      <td>2.000000</td>\n",
       "      <td>66.666667</td>\n",
       "      <td>1.0</td>\n",
       "      <td>1.600000e-01</td>\n",
       "      <td>1.0</td>\n",
       "    </tr>\n",
       "    <tr>\n",
       "      <th>50%</th>\n",
       "      <td>3.000000</td>\n",
       "      <td>100.000000</td>\n",
       "      <td>1.0</td>\n",
       "      <td>1.600000e-01</td>\n",
       "      <td>1.0</td>\n",
       "    </tr>\n",
       "    <tr>\n",
       "      <th>75%</th>\n",
       "      <td>3.000000</td>\n",
       "      <td>100.000000</td>\n",
       "      <td>1.0</td>\n",
       "      <td>1.600000e-01</td>\n",
       "      <td>1.0</td>\n",
       "    </tr>\n",
       "    <tr>\n",
       "      <th>max</th>\n",
       "      <td>8.000000</td>\n",
       "      <td>266.666667</td>\n",
       "      <td>1.0</td>\n",
       "      <td>1.600000e-01</td>\n",
       "      <td>1.0</td>\n",
       "    </tr>\n",
       "  </tbody>\n",
       "</table>\n",
       "</div>"
      ]
     },
     "execution_count": 4,
     "metadata": {},
     "output_type": "execute_result"
    }
   ],
   "execution_count": 4
  },
  {
   "metadata": {},
   "cell_type": "markdown",
   "source": [
    "## 📌 Paso 4: Identificación de valores nulos\n",
    "\n",
    "En este paso analizamos la presencia de valores faltantes en el dataset:\n",
    "1. Se muestra la cantidad de valores nulos en cada columna.\n",
    "2. Se genera un **heatmap** con Seaborn para visualizar los valores faltantes en el dataset.\n"
   ],
   "id": "dd3c848dd5b17465"
  },
  {
   "metadata": {
    "ExecuteTime": {
     "end_time": "2025-02-11T03:46:50.943372Z",
     "start_time": "2025-02-11T03:46:50.894983Z"
    }
   },
   "cell_type": "code",
   "source": [
    "# Verificar valores nulos en cada columna\n",
    "df.isnull().sum()"
   ],
   "id": "265fed8279c790a5",
   "outputs": [
    {
     "data": {
      "text/plain": [
       "Germination Status         0\n",
       "Db type                    0\n",
       "Fieldname                  0\n",
       "Generation                 0\n",
       "Plda                  297403\n",
       "Program                    0\n",
       "Season                     0\n",
       "Setname                    0\n",
       "Site                       0\n",
       "Src Set                    0\n",
       "Ersc                    3551\n",
       "Plotbid                    0\n",
       "Germination Rate        3551\n",
       "PlaceholderUnidad          0\n",
       "SRE                        0\n",
       "Value                      0\n",
       "dtype: int64"
      ]
     },
     "execution_count": 5,
     "metadata": {},
     "output_type": "execute_result"
    }
   ],
   "execution_count": 5
  },
  {
   "metadata": {
    "ExecuteTime": {
     "end_time": "2025-02-11T03:47:16.683188Z",
     "start_time": "2025-02-11T03:47:14.822168Z"
    }
   },
   "cell_type": "code",
   "source": [
    "# Visualización gráfica de valores nulos\n",
    "plt.figure(figsize=(10,6))\n",
    "sns.heatmap(df.isnull(), cmap=\"viridis\", cbar=False, yticklabels=False)\n",
    "plt.title(\"Mapa de calor de valores nulos\")\n",
    "plt.show()\n"
   ],
   "id": "dec12eadeda0b8cb",
   "outputs": [
    {
     "data": {
      "text/plain": [
       "<Figure size 1000x600 with 1 Axes>"
      ],
      "image/png": "[encoded data removed]"
     },
     "metadata": {},
     "output_type": "display_data"
    }
   ],
   "execution_count": 6
  },
  {
   "metadata": {},
   "cell_type": "markdown",
   "source": [
    "## 📌 Paso 5: Análisis de la distribución de 'Germination'\n",
    "\n",
    "Aquí analizamos la cantidad de registros en cada categoría de germinación.\n",
    "- Se genera un conteo de las diferentes etiquetas en la columna \"Germination\".\n",
    "- Se visualiza mediante un gráfico de barras para ver la frecuencia de cada categoría.\n"
   ],
   "id": "7f633e04be83b858"
  },
  {
   "metadata": {
    "ExecuteTime": {
     "end_time": "2025-02-11T03:49:25.482248Z",
     "start_time": "2025-02-11T03:49:25.197277Z"
    }
   },
   "cell_type": "code",
   "source": [
    "# Conteo de categorías en Germination\n",
    "print(df[\"Germination Status\"].value_counts())\n",
    "\n",
    "# Visualización de la distribución\n",
    "plt.figure(figsize=(8,4))\n",
    "sns.countplot(data=df, x=\"Germination Status\", palette=\"Set2\")\n",
    "plt.title(\"Distribución de la Germinación\")\n",
    "plt.xticks(rotation=45)\n",
    "plt.show()\n"
   ],
   "id": "9d489e9812b49a5e",
   "outputs": [
    {
     "name": "stdout",
     "output_type": "stream",
     "text": [
      "Germination Status\n",
      "Very Good     212841\n",
      "Acceptable     57617\n",
      "Low            39460\n",
      "Critical       35182\n",
      "Name: count, dtype: int64\n"
     ]
    },
    {
     "name": "stderr",
     "output_type": "stream",
     "text": [
      "/var/folders/dy/tdg3fj0s1vb6fz91mxkb05g00000gn/T/ipykernel_7529/2313862373.py:6: FutureWarning: \n",
      "\n",
      "Passing `palette` without assigning `hue` is deprecated and will be removed in v0.14.0. Assign the `x` variable to `hue` and set `legend=False` for the same effect.\n",
      "\n",
      "  sns.countplot(data=df, x=\"Germination Status\", palette=\"Set2\")\n"
     ]
    },
    {
     "data": {
      "text/plain": [
       "<Figure size 800x400 with 1 Axes>"
      ],
      "image/png": "[encoded data removed]"
     },
     "metadata": {},
     "output_type": "display_data"
    }
   ],
   "execution_count": 9
  },
  {
   "metadata": {},
   "cell_type": "markdown",
   "source": [
    "## 📌 Paso 6: Análisis de programas en el dataset\n",
    "\n",
    "- Se cuenta cuántos programas diferentes hay en la base de datos.\n",
    "- Se grafica la cantidad de registros por cada programa para evaluar su distribución.\n"
   ],
   "id": "f28b3ec446dd8b8a"
  },
  {
   "metadata": {
    "ExecuteTime": {
     "end_time": "2025-02-11T03:49:54.301725Z",
     "start_time": "2025-02-11T03:49:53.967057Z"
    }
   },
   "cell_type": "code",
   "source": [
    "# Conteo de programas únicos\n",
    "print(\"Programas únicos:\", df[\"Program\"].nunique())\n",
    "\n",
    "# Gráfico de distribución de Program\n",
    "plt.figure(figsize=(10,5))\n",
    "sns.countplot(data=df, x=\"Program\", order=df[\"Program\"].value_counts().index, palette=\"pastel\")\n",
    "plt.xticks(rotation=45)\n",
    "plt.title(\"Distribución de Ensayos por Programa\")\n",
    "plt.show()\n"
   ],
   "id": "e75bb54bfa1a76b8",
   "outputs": [
    {
     "name": "stdout",
     "output_type": "stream",
     "text": [
      "Programas únicos: 21\n"
     ]
    },
    {
     "name": "stderr",
     "output_type": "stream",
     "text": [
      "/var/folders/dy/tdg3fj0s1vb6fz91mxkb05g00000gn/T/ipykernel_7529/1584786439.py:6: FutureWarning: \n",
      "\n",
      "Passing `palette` without assigning `hue` is deprecated and will be removed in v0.14.0. Assign the `x` variable to `hue` and set `legend=False` for the same effect.\n",
      "\n",
      "  sns.countplot(data=df, x=\"Program\", order=df[\"Program\"].value_counts().index, palette=\"pastel\")\n"
     ]
    },
    {
     "data": {
      "text/plain": [
       "<Figure size 1000x500 with 1 Axes>"
      ],
      "image/png": "[encoded data removed]"
     },
     "metadata": {},
     "output_type": "display_data"
    }
   ],
   "execution_count": 10
  },
  {
   "metadata": {},
   "cell_type": "markdown",
   "source": [
    "## 📌 Conclusión del Análisis Exploratorio\n",
    "\n",
    "1. **Integridad de los Datos:**\n",
    "- No se encontraron valores nulos en columnas críticas.\n",
    "- Se debe revisar si los valores faltantes en otras columnas afectan el análisis.\n",
    "\n",
    "2. **Distribución de Variables:**\n",
    "- La variable `Germination` tiene una distribución sesgada hacia ciertas categorías.\n",
    "- `SRE` presenta una distribución específica que puede indicar sesgo.\n",
    "\n",
    "3. **Relaciones Importantes:**\n",
    "- Existen relaciones entre `Germination` y `SRE`, lo que puede ayudar en modelado predictivo.\n",
    "- La correlación entre variables numéricas debe analizarse más a fondo.\n",
    "\n",
    "🔍 **Recomendaciones:**\n",
    "- Validar la integridad de los datos antes de realizar modelos predictivos.\n",
    "- Explorar más a fondo la relación entre germinación y otras variables.\n",
    "- Evaluar si se requieren más datos para mejorar los análisis futuros.\n"
   ],
   "id": "124c30918c54b9dd"
  }
 ],
 "metadata": {
  "kernelspec": {
   "display_name": "Python 3",
   "language": "python",
   "name": "python3"
  },
  "language_info": {
   "codemirror_mode": {
    "name": "ipython",
    "version": 2
   },
   "file_extension": ".py",
   "mimetype": "text/x-python",
   "name": "python",
   "nbconvert_exporter": "python",
   "pygments_lexer": "ipython2",
   "version": "2.7.6"
  }
 },
 "nbformat": 4,
 "nbformat_minor": 5
}
