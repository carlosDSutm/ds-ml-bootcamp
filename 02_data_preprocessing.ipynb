{
 "cells": [
  {
   "cell_type": "code",
   "id": "initial_id",
   "metadata": {
    "collapsed": true,
    "ExecuteTime": {
     "end_time": "2025-02-12T01:15:40.697382Z",
     "start_time": "2025-02-12T01:15:40.044618Z"
    }
   },
   "source": [
    "from xml.sax.handler import property_interning_dict\n",
    "\n",
    "import pandas as pd\n",
    "import numpy as np\n",
    "import matplotlib.pyplot as plt"
   ],
   "outputs": [],
   "execution_count": 1
  },
  {
   "metadata": {},
   "cell_type": "markdown",
   "source": "## Importing the dataset",
   "id": "27e0c040b791bd7d"
  },
  {
   "metadata": {
    "ExecuteTime": {
     "end_time": "2025-02-12T01:15:40.711824Z",
     "start_time": "2025-02-12T01:15:40.704656Z"
    }
   },
   "cell_type": "code",
   "outputs": [],
   "execution_count": 2,
   "source": "dataset = pd.read_csv(\"Data.csv\")",
   "id": "f91fe3e2fefecc81"
  },
  {
   "metadata": {
    "ExecuteTime": {
     "end_time": "2025-02-12T01:15:40.725406Z",
     "start_time": "2025-02-12T01:15:40.717366Z"
    }
   },
   "cell_type": "code",
   "outputs": [
    {
     "data": {
      "text/plain": [
       "   Country   Age   Salary Purchased\n",
       "0   France  44.0  72000.0        No\n",
       "1    Spain  27.0  48000.0       Yes\n",
       "2  Germany  30.0  54000.0        No\n",
       "3    Spain  38.0  61000.0        No\n",
       "4  Germany  40.0      NaN       Yes"
      ],
      "text/html": [
       "<div>\n",
       "<style scoped>\n",
       "    .dataframe tbody tr th:only-of-type {\n",
       "        vertical-align: middle;\n",
       "    }\n",
       "\n",
       "    .dataframe tbody tr th {\n",
       "        vertical-align: top;\n",
       "    }\n",
       "\n",
       "    .dataframe thead th {\n",
       "        text-align: right;\n",
       "    }\n",
       "</style>\n",
       "<table border=\"1\" class=\"dataframe\">\n",
       "  <thead>\n",
       "    <tr style=\"text-align: right;\">\n",
       "      <th></th>\n",
       "      <th>Country</th>\n",
       "      <th>Age</th>\n",
       "      <th>Salary</th>\n",
       "      <th>Purchased</th>\n",
       "    </tr>\n",
       "  </thead>\n",
       "  <tbody>\n",
       "    <tr>\n",
       "      <th>0</th>\n",
       "      <td>France</td>\n",
       "      <td>44.0</td>\n",
       "      <td>72000.0</td>\n",
       "      <td>No</td>\n",
       "    </tr>\n",
       "    <tr>\n",
       "      <th>1</th>\n",
       "      <td>Spain</td>\n",
       "      <td>27.0</td>\n",
       "      <td>48000.0</td>\n",
       "      <td>Yes</td>\n",
       "    </tr>\n",
       "    <tr>\n",
       "      <th>2</th>\n",
       "      <td>Germany</td>\n",
       "      <td>30.0</td>\n",
       "      <td>54000.0</td>\n",
       "      <td>No</td>\n",
       "    </tr>\n",
       "    <tr>\n",
       "      <th>3</th>\n",
       "      <td>Spain</td>\n",
       "      <td>38.0</td>\n",
       "      <td>61000.0</td>\n",
       "      <td>No</td>\n",
       "    </tr>\n",
       "    <tr>\n",
       "      <th>4</th>\n",
       "      <td>Germany</td>\n",
       "      <td>40.0</td>\n",
       "      <td>NaN</td>\n",
       "      <td>Yes</td>\n",
       "    </tr>\n",
       "  </tbody>\n",
       "</table>\n",
       "</div>"
      ]
     },
     "execution_count": 3,
     "metadata": {},
     "output_type": "execute_result"
    }
   ],
   "execution_count": 3,
   "source": "dataset.head()",
   "id": "9cb9721be0c43d55"
  },
  {
   "metadata": {
    "ExecuteTime": {
     "end_time": "2025-02-12T01:15:40.802333Z",
     "start_time": "2025-02-12T01:15:40.799114Z"
    }
   },
   "cell_type": "code",
   "source": [
    "## matrix of features or independent variables\n",
    "x = dataset.iloc[:, :-1].values\n",
    "## Dependent variable\n",
    "y = dataset.iloc[:, -1].values"
   ],
   "id": "b45ea0ae07b0fd3c",
   "outputs": [],
   "execution_count": 4
  },
  {
   "metadata": {},
   "cell_type": "markdown",
   "source": "## Missing Data",
   "id": "eafbeb6b4465c9f4"
  },
  {
   "metadata": {
    "ExecuteTime": {
     "end_time": "2025-02-12T01:15:41.791952Z",
     "start_time": "2025-02-12T01:15:40.823838Z"
    }
   },
   "cell_type": "code",
   "source": [
    "from sklearn.impute import SimpleImputer\n",
    "imputer = SimpleImputer(missing_values=np.nan, strategy='mean')\n",
    "imputer.fit(x[:,1:3])\n",
    "x[:,1:3] = imputer.transform(x[:,1:3])"
   ],
   "id": "85becb4046982756",
   "outputs": [],
   "execution_count": 5
  },
  {
   "metadata": {
    "ExecuteTime": {
     "end_time": "2025-02-12T01:15:41.813275Z",
     "start_time": "2025-02-12T01:15:41.811195Z"
    }
   },
   "cell_type": "code",
   "source": "print(x)",
   "id": "e0bb39d8e35a11f1",
   "outputs": [
    {
     "name": "stdout",
     "output_type": "stream",
     "text": [
      "[['France' 44.0 72000.0]\n",
      " ['Spain' 27.0 48000.0]\n",
      " ['Germany' 30.0 54000.0]\n",
      " ['Spain' 38.0 61000.0]\n",
      " ['Germany' 40.0 63777.77777777778]\n",
      " ['France' 35.0 58000.0]\n",
      " ['Spain' 38.77777777777778 52000.0]\n",
      " ['France' 48.0 79000.0]\n",
      " ['Germany' 50.0 83000.0]\n",
      " ['France' 37.0 67000.0]]\n"
     ]
    }
   ],
   "execution_count": 6
  },
  {
   "metadata": {},
   "cell_type": "markdown",
   "source": "## Encoding categorical dara",
   "id": "162f9e12ed428935"
  },
  {
   "metadata": {},
   "cell_type": "markdown",
   "source": "### One hot encoding",
   "id": "bb5533d97c8a7d51"
  },
  {
   "metadata": {},
   "cell_type": "markdown",
   "source": "### Encoding independent variable",
   "id": "6f70b5d81cb9c3f9"
  },
  {
   "metadata": {
    "ExecuteTime": {
     "end_time": "2025-02-12T01:15:41.833764Z",
     "start_time": "2025-02-12T01:15:41.827877Z"
    }
   },
   "cell_type": "code",
   "source": [
    "from sklearn.compose import ColumnTransformer\n",
    "from sklearn.preprocessing import OneHotEncoder\n",
    "ct = ColumnTransformer(transformers = [('encoder', OneHotEncoder(), [0])], remainder='passthrough')\n",
    "x = np.array(ct.fit_transform(x))\n"
   ],
   "id": "71d936279b0b6b61",
   "outputs": [],
   "execution_count": 7
  },
  {
   "metadata": {
    "ExecuteTime": {
     "end_time": "2025-02-12T01:15:41.893412Z",
     "start_time": "2025-02-12T01:15:41.891263Z"
    }
   },
   "cell_type": "code",
   "source": "print(x)",
   "id": "455e431438eedb89",
   "outputs": [
    {
     "name": "stdout",
     "output_type": "stream",
     "text": [
      "[[1.0 0.0 0.0 44.0 72000.0]\n",
      " [0.0 0.0 1.0 27.0 48000.0]\n",
      " [0.0 1.0 0.0 30.0 54000.0]\n",
      " [0.0 0.0 1.0 38.0 61000.0]\n",
      " [0.0 1.0 0.0 40.0 63777.77777777778]\n",
      " [1.0 0.0 0.0 35.0 58000.0]\n",
      " [0.0 0.0 1.0 38.77777777777778 52000.0]\n",
      " [1.0 0.0 0.0 48.0 79000.0]\n",
      " [0.0 1.0 0.0 50.0 83000.0]\n",
      " [1.0 0.0 0.0 37.0 67000.0]]\n"
     ]
    }
   ],
   "execution_count": 8
  },
  {
   "metadata": {},
   "cell_type": "markdown",
   "source": "### Encoding dependent variable",
   "id": "7d5d986119f10ce0"
  },
  {
   "metadata": {
    "ExecuteTime": {
     "end_time": "2025-02-12T01:15:41.959807Z",
     "start_time": "2025-02-12T01:15:41.957656Z"
    }
   },
   "cell_type": "code",
   "source": [
    "from sklearn.preprocessing import LabelEncoder\n",
    "le = LabelEncoder()\n",
    "y = le.fit_transform(y)"
   ],
   "id": "55cd02c1d574577b",
   "outputs": [],
   "execution_count": 9
  },
  {
   "metadata": {
    "ExecuteTime": {
     "end_time": "2025-02-12T01:18:53.392963Z",
     "start_time": "2025-02-12T01:18:53.389650Z"
    }
   },
   "cell_type": "code",
   "source": "print(y)",
   "id": "96376b44e672e5ef",
   "outputs": [
    {
     "name": "stdout",
     "output_type": "stream",
     "text": [
      "[0 1 0 0 1 1 0 1 0 1]\n"
     ]
    }
   ],
   "execution_count": 15
  },
  {
   "metadata": {},
   "cell_type": "markdown",
   "source": "### Splitting the dataset into the Training set and Test Set",
   "id": "a1285cb35f70716d"
  },
  {
   "metadata": {
    "ExecuteTime": {
     "end_time": "2025-02-12T01:15:41.970358Z",
     "start_time": "2025-02-12T01:15:41.967668Z"
    }
   },
   "cell_type": "code",
   "source": [
    "from sklearn.model_selection import train_test_split\n",
    "x_train, x_test, y_train, y_test = train_test_split(x, y, test_size=0.2, random_state=1)"
   ],
   "id": "79bbc1aac2f344bc",
   "outputs": [],
   "execution_count": 10
  },
  {
   "metadata": {
    "ExecuteTime": {
     "end_time": "2025-02-12T01:15:41.979834Z",
     "start_time": "2025-02-12T01:15:41.977093Z"
    }
   },
   "cell_type": "code",
   "source": "x_train",
   "id": "94ae6de7773f6e5b",
   "outputs": [
    {
     "data": {
      "text/plain": [
       "array([[0.0, 0.0, 1.0, 38.77777777777778, 52000.0],\n",
       "       [0.0, 1.0, 0.0, 40.0, 63777.77777777778],\n",
       "       [1.0, 0.0, 0.0, 44.0, 72000.0],\n",
       "       [0.0, 0.0, 1.0, 38.0, 61000.0],\n",
       "       [0.0, 0.0, 1.0, 27.0, 48000.0],\n",
       "       [1.0, 0.0, 0.0, 48.0, 79000.0],\n",
       "       [0.0, 1.0, 0.0, 50.0, 83000.0],\n",
       "       [1.0, 0.0, 0.0, 35.0, 58000.0]], dtype=object)"
      ]
     },
     "execution_count": 11,
     "metadata": {},
     "output_type": "execute_result"
    }
   ],
   "execution_count": 11
  },
  {
   "metadata": {
    "ExecuteTime": {
     "end_time": "2025-02-12T01:15:42.014186Z",
     "start_time": "2025-02-12T01:15:42.011746Z"
    }
   },
   "cell_type": "code",
   "source": "x_test",
   "id": "14d6515699095194",
   "outputs": [
    {
     "data": {
      "text/plain": [
       "array([[0.0, 1.0, 0.0, 30.0, 54000.0],\n",
       "       [1.0, 0.0, 0.0, 37.0, 67000.0]], dtype=object)"
      ]
     },
     "execution_count": 12,
     "metadata": {},
     "output_type": "execute_result"
    }
   ],
   "execution_count": 12
  },
  {
   "metadata": {
    "ExecuteTime": {
     "end_time": "2025-02-12T01:15:42.077019Z",
     "start_time": "2025-02-12T01:15:42.074426Z"
    }
   },
   "cell_type": "code",
   "source": "y_train",
   "id": "67925bbc42804496",
   "outputs": [
    {
     "data": {
      "text/plain": [
       "array([0, 1, 0, 0, 1, 1, 0, 1])"
      ]
     },
     "execution_count": 13,
     "metadata": {},
     "output_type": "execute_result"
    }
   ],
   "execution_count": 13
  },
  {
   "metadata": {
    "ExecuteTime": {
     "end_time": "2025-02-12T01:15:42.153468Z",
     "start_time": "2025-02-12T01:15:42.150067Z"
    }
   },
   "cell_type": "code",
   "source": "y_test",
   "id": "34ecd50d52117677",
   "outputs": [
    {
     "data": {
      "text/plain": [
       "array([0, 1])"
      ]
     },
     "execution_count": 14,
     "metadata": {},
     "output_type": "execute_result"
    }
   ],
   "execution_count": 14
  },
  {
   "metadata": {},
   "cell_type": "markdown",
   "source": "### Feature Scaling",
   "id": "825561a2f4249106"
  },
  {
   "metadata": {
    "ExecuteTime": {
     "end_time": "2025-02-12T02:48:03.424230Z",
     "start_time": "2025-02-12T02:48:03.421923Z"
    }
   },
   "cell_type": "code",
   "source": "from sklearn.preprocessing import StandardScaler",
   "id": "1daf8dad4e27972e",
   "outputs": [],
   "execution_count": 16
  },
  {
   "metadata": {
    "ExecuteTime": {
     "end_time": "2025-02-12T02:48:41.697244Z",
     "start_time": "2025-02-12T02:48:41.694362Z"
    }
   },
   "cell_type": "code",
   "source": "sc = StandardScaler()",
   "id": "6239f6f6aa805af1",
   "outputs": [],
   "execution_count": 17
  },
  {
   "metadata": {
    "ExecuteTime": {
     "end_time": "2025-02-12T02:56:08.338049Z",
     "start_time": "2025-02-12T02:56:08.334334Z"
    }
   },
   "cell_type": "code",
   "source": "x_train[:, 3:] = sc.fit_transform(x_train[:, 3:])",
   "id": "14ee0ca4097b8b3d",
   "outputs": [],
   "execution_count": 18
  },
  {
   "metadata": {
    "ExecuteTime": {
     "end_time": "2025-02-12T02:58:34.433586Z",
     "start_time": "2025-02-12T02:58:34.430715Z"
    }
   },
   "cell_type": "code",
   "source": "x_test[:, 3:] = sc.transform(x_test[:, 3:])",
   "id": "63127a3582986382",
   "outputs": [],
   "execution_count": 19
  },
  {
   "metadata": {
    "ExecuteTime": {
     "end_time": "2025-02-12T02:58:53.024127Z",
     "start_time": "2025-02-12T02:58:53.021085Z"
    }
   },
   "cell_type": "code",
   "source": "print(x_train)",
   "id": "8a3d8b2d8ddc30eb",
   "outputs": [
    {
     "name": "stdout",
     "output_type": "stream",
     "text": [
      "[[0.0 0.0 1.0 -0.19159184384578545 -1.0781259408412425]\n",
      " [0.0 1.0 0.0 -0.014117293757057777 -0.07013167641635372]\n",
      " [1.0 0.0 0.0 0.566708506533324 0.633562432710455]\n",
      " [0.0 0.0 1.0 -0.30453019390224867 -0.30786617274297867]\n",
      " [0.0 0.0 1.0 -1.9018011447007988 -1.420463615551582]\n",
      " [1.0 0.0 0.0 1.1475343068237058 1.232653363453549]\n",
      " [0.0 1.0 0.0 1.4379472069688968 1.5749910381638885]\n",
      " [1.0 0.0 0.0 -0.7401495441200351 -0.5646194287757332]]\n"
     ]
    }
   ],
   "execution_count": 20
  },
  {
   "metadata": {
    "ExecuteTime": {
     "end_time": "2025-02-12T02:59:03.954658Z",
     "start_time": "2025-02-12T02:59:03.951393Z"
    }
   },
   "cell_type": "code",
   "source": "print(x_test)",
   "id": "9e09695d16e5e910",
   "outputs": [
    {
     "name": "stdout",
     "output_type": "stream",
     "text": [
      "[[0.0 1.0 0.0 -1.4661817944830124 -0.9069571034860727]\n",
      " [1.0 0.0 0.0 -0.44973664397484414 0.2056403393225306]]\n"
     ]
    }
   ],
   "execution_count": 21
  },
  {
   "metadata": {},
   "cell_type": "code",
   "outputs": [],
   "execution_count": null,
   "source": "",
   "id": "a5d67a3fd9d75946"
  }
 ],
 "metadata": {
  "kernelspec": {
   "display_name": "Python 3",
   "language": "python",
   "name": "python3"
  },
  "language_info": {
   "codemirror_mode": {
    "name": "ipython",
    "version": 2
   },
   "file_extension": ".py",
   "mimetype": "text/x-python",
   "name": "python",
   "nbconvert_exporter": "python",
   "pygments_lexer": "ipython2",
   "version": "2.7.6"
  }
 },
 "nbformat": 4,
 "nbformat_minor": 5
}
